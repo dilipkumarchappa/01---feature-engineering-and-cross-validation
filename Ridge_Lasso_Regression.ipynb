{
  "nbformat": 4,
  "nbformat_minor": 0,
  "metadata": {
    "kernelspec": {
      "display_name": "Python 3",
      "language": "python",
      "name": "python3"
    },
    "language_info": {
      "codemirror_mode": {
        "name": "ipython",
        "version": 3
      },
      "file_extension": ".py",
      "mimetype": "text/x-python",
      "name": "python",
      "nbconvert_exporter": "python",
      "pygments_lexer": "ipython3",
      "version": "3.6.4"
    },
    "colab": {
      "name": "Ridge_Lasso_Regression.ipynb",
      "provenance": []
    }
  },
  "cells": [
    {
      "cell_type": "code",
      "metadata": {
        "id": "mQC5mv_nb841",
        "colab_type": "code",
        "colab": {}
      },
      "source": [
        "%matplotlib inline\n",
        "\n",
        "\n",
        "# Numerical libraries\n",
        "import numpy as np   \n",
        "\n",
        "# Import Linear Regression machine learning library\n",
        "from sklearn.linear_model import LinearRegression\n",
        "from sklearn.linear_model import Ridge\n",
        "from sklearn.linear_model import Lasso\n",
        "\n",
        "from sklearn.metrics import r2_score\n",
        "\n",
        "# to handle data in form of rows and columns \n",
        "import pandas as pd    \n",
        "\n",
        "# importing ploting libraries\n",
        "import matplotlib.pyplot as plt   \n",
        "\n",
        "#importing seaborn for statistical plots\n",
        "import seaborn as sns"
      ],
      "execution_count": null,
      "outputs": []
    },
    {
      "cell_type": "code",
      "metadata": {
        "id": "KgyAXyqAb84_",
        "colab_type": "code",
        "colab": {}
      },
      "source": [
        "mpg_df = pd.read_csv(\"d:\\\\ML_Data\\\\car-mpg.csv\")  \n",
        "mpg_df = mpg_df.drop('car_name', axis=1)\n",
        "mpg_df['origin'] = mpg_df['origin'].replace({1: 'america', 2: 'europe', 3: 'asia'})\n",
        "mpg_df = pd.get_dummies(mpg_df, columns=['origin'])\n",
        "mpg_df = mpg_df.replace('?', np.nan)\n",
        "mpg_df = mpg_df.apply(lambda x: x.fillna(x.median()),axis=0)"
      ],
      "execution_count": null,
      "outputs": []
    },
    {
      "cell_type": "markdown",
      "metadata": {
        "id": "5A9d156Vb85H",
        "colab_type": "text"
      },
      "source": [
        "# separate independent and dependent variables"
      ]
    },
    {
      "cell_type": "code",
      "metadata": {
        "id": "nmhWnvgVb85L",
        "colab_type": "code",
        "colab": {}
      },
      "source": [
        "# Copy all the predictor variables into X dataframe. Since 'mpg' is dependent variable drop it\n",
        "X = mpg_df.drop('mpg', axis=1)\n",
        "\n",
        "# Copy the 'mpg' column alone into the y dataframe. This is the dependent variable\n",
        "y = mpg_df[['mpg']]\n"
      ],
      "execution_count": null,
      "outputs": []
    },
    {
      "cell_type": "code",
      "metadata": {
        "id": "WIkoRNskb85S",
        "colab_type": "code",
        "colab": {}
      },
      "source": [
        "from sklearn import preprocessing\n",
        "\n",
        "# scale all the columns of the mpg_df. This will produce a numpy array\n",
        "X_scaled = preprocessing.scale(X)\n",
        "X_scaled = pd.DataFrame(X_scaled, columns=X.columns)  # ideally the training and test should be "
      ],
      "execution_count": null,
      "outputs": []
    },
    {
      "cell_type": "code",
      "metadata": {
        "id": "ZZ8hEh7qb85a",
        "colab_type": "code",
        "colab": {}
      },
      "source": [
        "\n",
        "from sklearn.model_selection import train_test_split\n",
        "\n",
        "X_train, X_test, y_train, y_test = train_test_split(X_scaled, y, test_size=0.30, random_state=1)"
      ],
      "execution_count": null,
      "outputs": []
    },
    {
      "cell_type": "markdown",
      "metadata": {
        "id": "oj3TzBTmb85i",
        "colab_type": "text"
      },
      "source": [
        "# fit a simple linear model"
      ]
    },
    {
      "cell_type": "code",
      "metadata": {
        "id": "cTrKpCeAb85j",
        "colab_type": "code",
        "colab": {},
        "outputId": "7101bccd-3c7d-4363-a4f4-28444c5c89ab"
      },
      "source": [
        "regression_model = LinearRegression()\n",
        "regression_model.fit(X_train, y_train)\n",
        "\n",
        "for idx, col_name in enumerate(X_train.columns):\n",
        "    print(\"The coefficient for {} is {}\".format(col_name, regression_model.coef_[0][idx]))"
      ],
      "execution_count": null,
      "outputs": [
        {
          "output_type": "stream",
          "text": [
            "The coefficient for cyl is 2.5059518049385052\n",
            "The coefficient for disp is 2.5357082860560483\n",
            "The coefficient for hp is -1.7889335736325294\n",
            "The coefficient for wt is -5.551819873098725\n",
            "The coefficient for acc is 0.11485734803440854\n",
            "The coefficient for yr is 2.931846548211609\n",
            "The coefficient for car_type is 2.977869737601944\n",
            "The coefficient for origin_america is -0.5832955290166003\n",
            "The coefficient for origin_asia is 0.3474931380432235\n",
            "The coefficient for origin_europe is 0.3774164680868855\n"
          ],
          "name": "stdout"
        }
      ]
    },
    {
      "cell_type": "markdown",
      "metadata": {
        "id": "j7WM3x_ub85t",
        "colab_type": "text"
      },
      "source": [
        "# Create a regularized RIDGE model and note the coefficients"
      ]
    },
    {
      "cell_type": "code",
      "metadata": {
        "id": "gLeb_sBpb85u",
        "colab_type": "code",
        "colab": {},
        "outputId": "926f16cd-1b35-45e6-ddad-c951bea671c6"
      },
      "source": [
        "ridge = Ridge(alpha=.3)\n",
        "ridge.fit(X_train,y_train)\n",
        "print (\"Ridge model:\", (ridge.coef_))\n",
        "    "
      ],
      "execution_count": null,
      "outputs": [
        {
          "output_type": "stream",
          "text": [
            "Ridge model: [[ 2.47057467  2.44494419 -1.78573889 -5.47285499  0.10115618  2.92319984\n",
            "   2.94492098 -0.57949986  0.34667456  0.37344909]]\n"
          ],
          "name": "stdout"
        }
      ]
    },
    {
      "cell_type": "markdown",
      "metadata": {
        "id": "kwHgvriVb855",
        "colab_type": "text"
      },
      "source": [
        "# Create a regularized LASSO model and note the coefficients"
      ]
    },
    {
      "cell_type": "code",
      "metadata": {
        "id": "Tc2aIVppb856",
        "colab_type": "code",
        "colab": {},
        "outputId": "eab6b4ed-f1bb-4125-d9c7-dbe65bb9193b"
      },
      "source": [
        "lasso = Lasso(alpha=0.2)\n",
        "lasso.fit(X_train,y_train)\n",
        "print (\"Lasso model:\", (lasso.coef_))\n",
        "\n",
        "# Observe, many of the coefficients have become 0 indicating drop of those dimensions from the model"
      ],
      "execution_count": null,
      "outputs": [
        {
          "output_type": "stream",
          "text": [
            "Lasso model: [ 0.          0.         -0.3475456  -4.01181473  0.          2.64248634\n",
            "  1.07111166 -0.54724128  0.          0.        ]\n"
          ],
          "name": "stdout"
        }
      ]
    },
    {
      "cell_type": "markdown",
      "metadata": {
        "id": "vpqfy-iKb85_",
        "colab_type": "text"
      },
      "source": [
        "## Let us compare their scores"
      ]
    },
    {
      "cell_type": "code",
      "metadata": {
        "id": "Qb-g4Ronb86B",
        "colab_type": "code",
        "colab": {},
        "outputId": "3f37c473-9cd4-46eb-c98f-d09278172bd6"
      },
      "source": [
        "print(regression_model.score(X_train, y_train))\n",
        "print(regression_model.score(X_test, y_test))\n"
      ],
      "execution_count": null,
      "outputs": [
        {
          "output_type": "stream",
          "text": [
            "0.8513421387780066\n",
            "0.8343770256960538\n"
          ],
          "name": "stdout"
        }
      ]
    },
    {
      "cell_type": "code",
      "metadata": {
        "id": "P_YxZXB7b86G",
        "colab_type": "code",
        "colab": {},
        "outputId": "5d091ff0-2ad8-46ec-ff0c-060b78d20752"
      },
      "source": [
        "print(ridge.score(X_train, y_train))\n",
        "print(ridge.score(X_test, y_test))"
      ],
      "execution_count": null,
      "outputs": [
        {
          "output_type": "stream",
          "text": [
            "0.8518882171608504\n",
            "0.8343617931312615\n"
          ],
          "name": "stdout"
        }
      ]
    },
    {
      "cell_type": "code",
      "metadata": {
        "id": "uEX6BxOQb86N",
        "colab_type": "code",
        "colab": {},
        "outputId": "5ba5ca5c-b43f-4447-9c38-dc4e9e3cbcb6"
      },
      "source": [
        "print(lasso.score(X_train, y_train))\n",
        "print(lasso.score(X_test, y_test))"
      ],
      "execution_count": null,
      "outputs": [
        {
          "output_type": "stream",
          "text": [
            "0.8547810865027448\n",
            "0.8114389394513553\n"
          ],
          "name": "stdout"
        }
      ]
    },
    {
      "cell_type": "code",
      "metadata": {
        "id": "83PBQDLWb86T",
        "colab_type": "code",
        "colab": {}
      },
      "source": [
        "# More or less similar results but with less complex models.  Complexity is a function of variables and coefficients\n",
        "## Note - with Lasso, we get equally good result in test though not so in training.  Further, the number of dimensions is much less\n",
        "# in LASSO model than ridge or un-regularized model"
      ],
      "execution_count": null,
      "outputs": []
    },
    {
      "cell_type": "markdown",
      "metadata": {
        "id": "4Eq9jNuIb86Y",
        "colab_type": "text"
      },
      "source": [
        "# Let us generate polynomial models reflecting the non-linear interaction between some dimensions"
      ]
    },
    {
      "cell_type": "code",
      "metadata": {
        "id": "gTM6nFI-b86c",
        "colab_type": "code",
        "colab": {}
      },
      "source": [
        "from sklearn.preprocessing import PolynomialFeatures"
      ],
      "execution_count": null,
      "outputs": []
    },
    {
      "cell_type": "code",
      "metadata": {
        "id": "eJN3iDc3b86h",
        "colab_type": "code",
        "colab": {}
      },
      "source": [
        "poly = PolynomialFeatures(degree = 2, interaction_only=True)\n",
        "\n",
        "#poly = PolynomialFeatures(2)"
      ],
      "execution_count": null,
      "outputs": []
    },
    {
      "cell_type": "code",
      "metadata": {
        "id": "td0V8xMRb86n",
        "colab_type": "code",
        "colab": {},
        "outputId": "1526ad70-15ee-4162-85c6-58d05b269cdb"
      },
      "source": [
        "X_poly = poly.fit_transform(X_scaled)\n",
        "X_train, X_test, y_train, y_test = train_test_split(X_poly, y, test_size=0.30, random_state=1)\n",
        "X_train.shape"
      ],
      "execution_count": null,
      "outputs": [
        {
          "output_type": "execute_result",
          "data": {
            "text/plain": [
              "(278, 56)"
            ]
          },
          "metadata": {
            "tags": []
          },
          "execution_count": 17
        }
      ]
    },
    {
      "cell_type": "markdown",
      "metadata": {
        "id": "jEsb5X4hb86u",
        "colab_type": "text"
      },
      "source": [
        "# Fit a simple non regularized linear model on poly features-"
      ]
    },
    {
      "cell_type": "code",
      "metadata": {
        "id": "n_eIJWX1b86v",
        "colab_type": "code",
        "colab": {},
        "outputId": "241ce50b-5cd0-4773-b258-bb01d53c5c5f"
      },
      "source": [
        "regression_model.fit(X_train, y_train)\n",
        "print(regression_model.coef_[0])\n"
      ],
      "execution_count": null,
      "outputs": [
        {
          "output_type": "stream",
          "text": [
            "[-9.67853872e-13 -1.06672046e+12 -4.45865268e+00 -2.24519565e+00\n",
            " -2.96922206e+00 -1.56882955e+00  3.00019063e+00 -1.42031640e+12\n",
            " -5.46189566e+11  3.62350196e+12 -2.88818173e+12 -1.16772461e+00\n",
            " -1.43814087e+00 -7.49492645e-03  2.59439087e+00 -1.92409515e+00\n",
            " -3.41759793e+12 -6.27534905e+12 -2.44065576e+12 -2.32961194e+12\n",
            "  3.97766113e-01  1.94046021e-01 -4.26086426e-01  3.58203125e+00\n",
            " -2.05296326e+00 -7.51019934e+11 -6.18967069e+11 -5.90805593e+11\n",
            "  2.47863770e-01 -6.68518066e-01 -1.92150879e+00 -7.37030029e-01\n",
            " -1.01183732e+11 -8.33924574e+10 -7.95983063e+10 -1.70394897e-01\n",
            "  5.25512695e-01 -3.33097839e+00  1.56301740e+12  1.28818991e+12\n",
            "  1.22958044e+12  5.80200195e-01  1.55352783e+00  3.64527008e+11\n",
            "  3.00431724e+11  2.86762821e+11  3.97644043e-01  8.58604718e+10\n",
            "  7.07635073e+10  6.75439422e+10 -7.25449332e+11  1.00689540e+12\n",
            "  9.61084146e+11  2.18532428e+11 -4.81675252e+12  2.63818648e+12]\n"
          ],
          "name": "stdout"
        }
      ]
    },
    {
      "cell_type": "code",
      "metadata": {
        "id": "nw7Mko5zb861",
        "colab_type": "code",
        "colab": {},
        "outputId": "e1c44b3d-12be-4200-f9cd-69dd64b38cd1"
      },
      "source": [
        "ridge = Ridge(alpha=.3)\n",
        "ridge.fit(X_train,y_train)\n",
        "print (\"Ridge model:\", (ridge.coef_))"
      ],
      "execution_count": null,
      "outputs": [
        {
          "output_type": "stream",
          "text": [
            "Ridge model: [[ 0.          3.73512981 -2.93500874 -2.13974194 -3.56547812 -1.28898893\n",
            "   3.01290805  2.04739082  0.0786974   0.21972225 -0.3302341  -1.46231096\n",
            "  -1.17221896  0.00856067  2.48054694 -1.67596093  0.99537516 -2.29024279\n",
            "   4.7699338  -2.08598898  0.34009408  0.35024058 -0.41761834  3.06970569\n",
            "  -2.21649433  1.86339518 -2.62934278  0.38596397  0.12088534 -0.53440382\n",
            "  -1.88265835 -0.7675926  -0.90146842  0.52416091  0.59678246 -0.26349448\n",
            "   0.5827378  -3.02842915 -0.36548074  0.5956112  -0.15941014  0.49168856\n",
            "   1.45652375 -0.43819158 -0.20964198  0.77665496  0.36489921 -0.4750838\n",
            "   0.3551047   0.23188557 -1.42941282  2.06831543 -0.34986402 -0.32320394\n",
            "   0.39054656  0.06283411]]\n"
          ],
          "name": "stdout"
        }
      ]
    },
    {
      "cell_type": "code",
      "metadata": {
        "id": "iG5G2XMpb867",
        "colab_type": "code",
        "colab": {},
        "outputId": "95757d64-7d98-496a-95fe-d067212156f1"
      },
      "source": [
        "print(ridge.score(X_train, y_train))\n",
        "print(ridge.score(X_test, y_test))\n"
      ],
      "execution_count": null,
      "outputs": [
        {
          "output_type": "stream",
          "text": [
            "0.8613398053698552\n",
            "0.9143225702003366\n"
          ],
          "name": "stdout"
        }
      ]
    },
    {
      "cell_type": "code",
      "metadata": {
        "id": "Xsv2LIu0b87E",
        "colab_type": "code",
        "colab": {},
        "outputId": "45978513-0092-4b67-ec52-8afe5a2583d5"
      },
      "source": [
        "lasso = Lasso(alpha=0.1)\n",
        "lasso.fit(X_train,y_train)\n",
        "print (\"Lasso model:\", (lasso.coef_))\n"
      ],
      "execution_count": null,
      "outputs": [
        {
          "output_type": "stream",
          "text": [
            "Lasso model: [ 0.         -0.         -0.         -1.59613165 -5.22452383 -0.\n",
            "  2.86907439  0.03030592 -0.10514919  0.          0.         -0.\n",
            " -0.          0.          0.28971732 -0.          0.         -0.\n",
            "  0.11457443 -0.          0.          1.15720495  0.          0.\n",
            " -0.          0.          0.         -0.          0.04724906  0.\n",
            " -0.6925298  -0.          0.          0.         -0.         -0.\n",
            " -0.         -0.67082659  0.         -0.         -0.          0.16918498\n",
            " -0.         -0.61771612  0.          0.36046427  0.         -0.37086554\n",
            "  0.          0.         -0.         -0.          0.18165859 -0.\n",
            " -0.         -0.        ]\n"
          ],
          "name": "stdout"
        }
      ]
    },
    {
      "cell_type": "code",
      "metadata": {
        "id": "aDQF24A3b87K",
        "colab_type": "code",
        "colab": {},
        "outputId": "a384b2fb-5247-474a-b0e4-e597bcebfa39"
      },
      "source": [
        "print(lasso.score(X_train, y_train))\n",
        "print(lasso.score(X_test, y_test))\n"
      ],
      "execution_count": null,
      "outputs": [
        {
          "output_type": "stream",
          "text": [
            "0.8802228448476971\n",
            "0.8900519684208552\n"
          ],
          "name": "stdout"
        }
      ]
    },
    {
      "cell_type": "code",
      "metadata": {
        "id": "lTqSTMxHb87P",
        "colab_type": "code",
        "colab": {}
      },
      "source": [
        ""
      ],
      "execution_count": null,
      "outputs": []
    },
    {
      "cell_type": "code",
      "metadata": {
        "id": "tH8rWNz2b87U",
        "colab_type": "code",
        "colab": {}
      },
      "source": [
        ""
      ],
      "execution_count": null,
      "outputs": []
    },
    {
      "cell_type": "code",
      "metadata": {
        "id": "rtkq4154b87Z",
        "colab_type": "code",
        "colab": {}
      },
      "source": [
        ""
      ],
      "execution_count": null,
      "outputs": []
    }
  ]
}